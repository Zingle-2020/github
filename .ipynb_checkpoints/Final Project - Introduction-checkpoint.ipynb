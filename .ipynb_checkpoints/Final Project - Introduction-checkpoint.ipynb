{
 "cells": [
  {
   "cell_type": "markdown",
   "metadata": {},
   "source": [
    "\n",
    "1.\tIntroduction:  \n",
    "    - Let’s assume I would want to start a new business in Jersey City (or any other places), but I am not sure about what is the best business in this location that is most needed. For example, should I open a restaurant, or should I open a pharmacy, etc.?  \n",
    "    - The goal is to find the best new businesses to open in Jersey City (or any other places).  \n",
    "    - Clearly this would be an interesting topic to many investors and entrepreneurs\n",
    "\n",
    "\n",
    "2.\tData:  \n",
    "    - Foursquare venue data for all neighborhoods in NY and Jersey City.  \n",
    "    - Foursquare higher level venue catagory definition: for example, level I: Food, Level II: Asian Food, Level III: Chinese Food\n",
    "    - The venue data is then reformated by one hot encoding, and averaging on neighborhood leve, such that each row in the data represents the distribution of the venue catagories in a neighborhood\n",
    "\n",
    "\n",
    "3.\tMethodology:\n",
    "    - In the last step, we've already aggregated the venue data in each neighborhood, so that we would know the distributions of venues within each neighborhood. This data will be used as input data.\n",
    "    - Run K Means algorithm to divide the neighborhoods into different groups. We will also test the algorithm performance with different K.\n",
    "        - I've also tested other clustering algorithms, but given the high dimension, K means is the most robust choice (i.e. the outcome won't change too much with different number of clusters)\n",
    "    - Pick out the group that Jersey City belongs to, and calculate the intra-cluster similarity\n",
    "    - In order to find the best venue, we will iteratively add a new venue to each of the venue category in Jersey City one by one, while keeping all other venue numbers unchanged, and then update the intra-cluster similarity. \n",
    "    - The most needed business is the venue that will give us the most increment of the intra-cluster similarity. \n",
    "    - The above steps are repeated with different Ks so we can better understand the robustness of the model  \n",
    "    \n",
    "\n",
    "4. Results:\n",
    "    - Based on the output table, the two most common business that the code is recommending are Pharmacy and Sandwich Places"
   ]
  },
  {
   "cell_type": "code",
   "execution_count": null,
   "metadata": {},
   "outputs": [],
   "source": []
  }
 ],
 "metadata": {
  "kernelspec": {
   "display_name": "Python 3",
   "language": "python",
   "name": "python3"
  },
  "language_info": {
   "codemirror_mode": {
    "name": "ipython",
    "version": 3
   },
   "file_extension": ".py",
   "mimetype": "text/x-python",
   "name": "python",
   "nbconvert_exporter": "python",
   "pygments_lexer": "ipython3",
   "version": "3.7.4"
  }
 },
 "nbformat": 4,
 "nbformat_minor": 2
}
